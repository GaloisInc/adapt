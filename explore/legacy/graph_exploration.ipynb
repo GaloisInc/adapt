{
 "cells": [
  {
   "cell_type": "markdown",
   "metadata": {},
   "source": [
    "Exploring a graph."
   ]
  },
  {
   "cell_type": "code",
   "execution_count": 2,
   "metadata": {
    "collapsed": true
   },
   "outputs": [],
   "source": [
    "import requests, readline, sys, json\n",
    "import numpy\n",
    "import networkx as nx\n",
    "import matplotlib as mpl\n",
    "%matplotlib inline\n",
    "%config InlineBacked.figure_format = 'svg'\n",
    "import matplotlib.pyplot as plt\n",
    "import matplotlib.cm as cmap\n",
    "import seaborn\n",
    "from graphviz import Digraph\n",
    "\n",
    "from query import *\n",
    "from summary import *\n"
   ]
  },
  {
   "cell_type": "markdown",
   "metadata": {},
   "source": [
    "vertexQ is a query to get all vertex labels:"
   ]
  },
  {
   "cell_type": "code",
   "execution_count": 3,
   "metadata": {
    "collapsed": false
   },
   "outputs": [
    {
     "data": {
      "text/plain": [
       "'g.V().label().groupCount()'"
      ]
     },
     "execution_count": 3,
     "metadata": {},
     "output_type": "execute_result"
    }
   ],
   "source": [
    "vertexQ"
   ]
  },
  {
   "cell_type": "markdown",
   "metadata": {},
   "source": [
    "getQuery gets the query results, and printResp prints a response"
   ]
  },
  {
   "cell_type": "code",
   "execution_count": 4,
   "metadata": {
    "collapsed": false
   },
   "outputs": [
    {
     "name": "stdout",
     "output_type": "stream",
     "text": [
      "Response: 200\n",
      "{'Event': '2128592', 'FileObject': '119413', 'SrcSinkObject': '19566', 'Principal': '10', 'Subject': '23225', 'NetFlowObject': '36'}\n"
     ]
    }
   ],
   "source": [
    "printResp(getQuery(vertexQ))\n"
   ]
  },
  {
   "cell_type": "markdown",
   "metadata": {},
   "source": [
    "getGroupCountQuery runs a query and converts the resulting dictionary to a groupCount"
   ]
  },
  {
   "cell_type": "code",
   "execution_count": 5,
   "metadata": {
    "collapsed": false
   },
   "outputs": [
    {
     "name": "stdout",
     "output_type": "stream",
     "text": [
      "Response: 200\n"
     ]
    },
    {
     "data": {
      "text/plain": [
       "[{'Event': 2128592,\n",
       "  'FileObject': 119413,\n",
       "  'NetFlowObject': 36,\n",
       "  'Principal': 10,\n",
       "  'SrcSinkObject': 19566,\n",
       "  'Subject': 23225}]"
      ]
     },
     "execution_count": 5,
     "metadata": {},
     "output_type": "execute_result"
    }
   ],
   "source": [
    "getGroupCountQuery(vertexQ)"
   ]
  },
  {
   "cell_type": "markdown",
   "metadata": {},
   "source": [
    "getVertices collects the counts and number of incoming and outgoing edge labels for each vertex label.  For example:"
   ]
  },
  {
   "cell_type": "code",
   "execution_count": 6,
   "metadata": {
    "collapsed": false,
    "scrolled": true
   },
   "outputs": [
    {
     "name": "stdout",
     "output_type": "stream",
     "text": [
      "Response: 200\n",
      "Vertex types/counts:\n",
      "Response: 200\n",
      "Response: 200\n",
      "Response: 200\n",
      "Response: 200\n",
      "Response: 200\n",
      "Response: 200\n",
      "Response: 200\n",
      "Response: 200\n",
      "Response: 200\n",
      "Response: 200\n",
      "Response: 200\n",
      "Response: 200\n",
      "{'Event': {'count': 2128592, 'in': {}, 'out': {'predicateObject2': 248520, 'subject': 2128592, 'predicateObject': 2062524}}, 'FileObject': {'count': 119413, 'in': {'predicateObject2': 238699, 'predicateObject': 1746127}, 'out': {}}, 'SrcSinkObject': {'count': 19566, 'in': {'predicateObject2': 9783, 'predicateObject': 62754}, 'out': {}}, 'Principal': {'count': 10, 'in': {'localPrincipal': 23223}, 'out': {}}, 'Subject': {'count': 23225, 'in': {'parentSubject': 23069, 'subject': 2128592, 'predicateObject': 253475}, 'out': {'localPrincipal': 23223, 'parentSubject': 23069}}, 'NetFlowObject': {'count': 36, 'in': {'predicateObject2': 38, 'predicateObject': 168}, 'out': {}}}\n"
     ]
    }
   ],
   "source": [
    "vertices = getVertexSummary()\n",
    "print (vertices)"
   ]
  },
  {
   "cell_type": "markdown",
   "metadata": {},
   "source": [
    "Likewise, getEdges collects the counts of edge labels and the number of vertex labels on the source and target of each edge."
   ]
  },
  {
   "cell_type": "code",
   "execution_count": 7,
   "metadata": {
    "collapsed": false
   },
   "outputs": [
    {
     "name": "stdout",
     "output_type": "stream",
     "text": [
      "Response: 200\n",
      "Edge types/counts:\n",
      "Response: 200\n",
      "Response: 200\n",
      "Response: 200\n",
      "Response: 200\n",
      "Response: 200\n",
      "Response: 200\n",
      "Response: 200\n",
      "Response: 200\n",
      "Response: 200\n",
      "Response: 200\n",
      "{'predicateObject2': {'count': 248520, 'in': {'FileObject': 238699, 'SrcSinkObject': 9783, 'NetFlowObject': 38}, 'out': {'Event': 248520}}, 'localPrincipal': {'count': 23223, 'in': {'Principal': 23223}, 'out': {'Subject': 23223}}, 'parentSubject': {'count': 23069, 'in': {'Subject': 23069}, 'out': {'Subject': 23069}}, 'subject': {'count': 2128592, 'in': {'Subject': 2128592}, 'out': {'Event': 2128592}}, 'predicateObject': {'count': 2062524, 'in': {'FileObject': 1746127, 'SrcSinkObject': 62754, 'Subject': 253475, 'NetFlowObject': 168}, 'out': {'Event': 2062524}}}\n"
     ]
    }
   ],
   "source": [
    "edges = getEdgeSummary()\n",
    "print (edges)"
   ]
  },
  {
   "cell_type": "markdown",
   "metadata": {},
   "source": [
    "Hmm.  Not very readable.  Let's try to do better.  printSummary takes a dictionary in one of the above forms and prints out the results in a more structured way."
   ]
  },
  {
   "cell_type": "code",
   "execution_count": 8,
   "metadata": {
    "collapsed": false,
    "scrolled": false
   },
   "outputs": [
    {
     "name": "stdout",
     "output_type": "stream",
     "text": [
      "{}\n",
      " -> \n",
      "Event[2128592]\n",
      " -> \n",
      "{predicateObject2[248520],\n",
      "subject[2128592],\n",
      "predicateObject[2062524]}\n",
      "\n",
      "{predicateObject2[238699],\n",
      "predicateObject[1746127]}\n",
      " -> \n",
      "FileObject[119413]\n",
      " -> \n",
      "{}\n",
      "\n",
      "{predicateObject2[9783],\n",
      "predicateObject[62754]}\n",
      " -> \n",
      "SrcSinkObject[19566]\n",
      " -> \n",
      "{}\n",
      "\n",
      "{localPrincipal[23223]}\n",
      " -> \n",
      "Principal[10]\n",
      " -> \n",
      "{}\n",
      "\n",
      "{parentSubject[23069],\n",
      "subject[2128592],\n",
      "predicateObject[253475]}\n",
      " -> \n",
      "Subject[23225]\n",
      " -> \n",
      "{localPrincipal[23223],\n",
      "parentSubject[23069]}\n",
      "\n",
      "{predicateObject2[38],\n",
      "predicateObject[168]}\n",
      " -> \n",
      "NetFlowObject[36]\n",
      " -> \n",
      "{}\n",
      "\n"
     ]
    }
   ],
   "source": [
    "printSummary(vertices)"
   ]
  },
  {
   "cell_type": "markdown",
   "metadata": {},
   "source": [
    "How about for edges?"
   ]
  },
  {
   "cell_type": "code",
   "execution_count": 9,
   "metadata": {
    "collapsed": false
   },
   "outputs": [
    {
     "name": "stdout",
     "output_type": "stream",
     "text": [
      "{FileObject[238699],\n",
      "SrcSinkObject[9783],\n",
      "NetFlowObject[38]}\n",
      " -> \n",
      "predicateObject2[248520]\n",
      " -> \n",
      "{Event[248520]}\n",
      "\n",
      "{Principal[23223]}\n",
      " -> \n",
      "localPrincipal[23223]\n",
      " -> \n",
      "{Subject[23223]}\n",
      "\n",
      "{Subject[23069]}\n",
      " -> \n",
      "parentSubject[23069]\n",
      " -> \n",
      "{Subject[23069]}\n",
      "\n",
      "{Subject[2128592]}\n",
      " -> \n",
      "subject[2128592]\n",
      " -> \n",
      "{Event[2128592]}\n",
      "\n",
      "{FileObject[1746127],\n",
      "SrcSinkObject[62754],\n",
      "Subject[253475],\n",
      "NetFlowObject[168]}\n",
      " -> \n",
      "predicateObject[2062524]\n",
      " -> \n",
      "{Event[2062524]}\n",
      "\n"
     ]
    }
   ],
   "source": [
    "printSummary(edges)"
   ]
  },
  {
   "cell_type": "markdown",
   "metadata": {},
   "source": [
    "Now let's build and visualize a (bipartite) graph.  Nodes will represent either node or edge labels, and edges represent that a node can have an in-edge or out-edge with a given label (or vice versa)."
   ]
  },
  {
   "cell_type": "code",
   "execution_count": 10,
   "metadata": {
    "collapsed": false
   },
   "outputs": [],
   "source": [
    "G = nx.DiGraph()\n"
   ]
  },
  {
   "cell_type": "code",
   "execution_count": 11,
   "metadata": {
    "collapsed": true
   },
   "outputs": [],
   "source": [
    "G.add_nodes_from(vertices,bipartite=0)\n",
    "G.add_nodes_from(edges,bipartite=1)"
   ]
  },
  {
   "cell_type": "code",
   "execution_count": 12,
   "metadata": {
    "collapsed": false
   },
   "outputs": [],
   "source": [
    "for v in vertices.keys():\n",
    "    for e in vertices[v]['in'].keys():\n",
    "        G.add_edge(e,v)\n",
    "    for e in vertices[v]['out'].keys():\n",
    "        G.add_edge(v,e)"
   ]
  },
  {
   "cell_type": "code",
   "execution_count": 13,
   "metadata": {
    "collapsed": false
   },
   "outputs": [
    {
     "data": {
      "text/plain": [
       "True"
      ]
     },
     "execution_count": 13,
     "metadata": {},
     "output_type": "execute_result"
    }
   ],
   "source": [
    "nx.is_bipartite(G)"
   ]
  },
  {
   "cell_type": "code",
   "execution_count": 14,
   "metadata": {
    "collapsed": false
   },
   "outputs": [
    {
     "data": {
      "text/plain": [
       "({'Event',\n",
       "  'FileObject',\n",
       "  'NetFlowObject',\n",
       "  'Principal',\n",
       "  'SrcSinkObject',\n",
       "  'Subject'},\n",
       " {'localPrincipal',\n",
       "  'parentSubject',\n",
       "  'predicateObject',\n",
       "  'predicateObject2',\n",
       "  'subject'})"
      ]
     },
     "execution_count": 14,
     "metadata": {},
     "output_type": "execute_result"
    }
   ],
   "source": [
    "from networkx.algorithms import bipartite\n",
    "bottom_nodes, top_nodes = bipartite.sets(G)\n",
    "bottom_nodes,top_nodes"
   ]
  },
  {
   "cell_type": "code",
   "execution_count": null,
   "metadata": {
    "collapsed": false
   },
   "outputs": [],
   "source": []
  },
  {
   "cell_type": "code",
   "execution_count": 15,
   "metadata": {
    "collapsed": false,
    "scrolled": false
   },
   "outputs": [
    {
     "data": {
      "image/png": "[encoded data removed]",
      "text/plain": [
       "<matplotlib.figure.Figure at 0x7efe75620588>"
      ]
     },
     "metadata": {},
     "output_type": "display_data"
    }
   ],
   "source": [
    "def showBiGraph(G):\n",
    "    colors = ['lightblue' if d['bipartite']==0 else 'pink' for x,d in G.nodes(data=True)]\n",
    "    positions = {}\n",
    "    i = 1\n",
    "    j = 1\n",
    "    for x,d in G.nodes(data=True):\n",
    "        if d['bipartite'] == 0:\n",
    "            positions[x] = (3,i)\n",
    "            i = i + 1\n",
    "        else:\n",
    "            positions[x] = (7,j)\n",
    "            j = j + 1\n",
    "    height = max(i,j)\n",
    "    fig = plt.figure(figsize=(10,height))\n",
    "    plt.gca().set_axis_off()   \n",
    "    plt.gca().set_xlim([-0.05, height+0.05])    # add a little space around the plot\n",
    "    plt.gca().set_ylim([-0.05, height+0.05])\n",
    "\n",
    "    nx.draw_networkx(G,pos=positions,\n",
    "                   with_labels=True,node_color=colors,edge_color='gray')\n",
    "\n",
    "    _ = plt.show()\n",
    "\n",
    "showBiGraph(G)"
   ]
  },
  {
   "cell_type": "markdown",
   "metadata": {},
   "source": [
    "Consider the edge labels into and out of each node type and abstract them as +, *, 1, or ?"
   ]
  },
  {
   "cell_type": "code",
   "execution_count": null,
   "metadata": {
    "collapsed": true
   },
   "outputs": [],
   "source": []
  },
  {
   "cell_type": "code",
   "execution_count": 16,
   "metadata": {
    "collapsed": false
   },
   "outputs": [
    {
     "name": "stdout",
     "output_type": "stream",
     "text": [
      "Response: 200\n",
      "Response: 200\n"
     ]
    },
    {
     "data": {
      "text/plain": [
       "{'in': {},\n",
       " 'out': {'predicateObject': '?', 'predicateObject2': '?', 'subject': '1'}}"
      ]
     },
     "execution_count": 16,
     "metadata": {},
     "output_type": "execute_result"
    }
   ],
   "source": [
    "summarizeIncidences('Event')"
   ]
  },
  {
   "cell_type": "code",
   "execution_count": 17,
   "metadata": {
    "collapsed": false
   },
   "outputs": [
    {
     "name": "stdout",
     "output_type": "stream",
     "text": [
      "Response: 200\n",
      "Response: 200\n",
      "Response: 200\n",
      "Response: 200\n",
      "Response: 200\n",
      "Response: 200\n",
      "Response: 200\n",
      "Response: 200\n",
      "Response: 200\n",
      "Response: 200\n",
      "Response: 200\n",
      "Response: 200\n"
     ]
    },
    {
     "data": {
      "text/plain": [
       "{'Event': {'in': {},\n",
       "  'out': {'predicateObject': '?', 'predicateObject2': '?', 'subject': '1'}},\n",
       " 'FileObject': {'in': {'predicateObject': '*', 'predicateObject2': '*'},\n",
       "  'out': {}},\n",
       " 'NetFlowObject': {'in': {'predicateObject': '*', 'predicateObject2': '*'},\n",
       "  'out': {}},\n",
       " 'Principal': {'in': {'localPrincipal': '*'}, 'out': {}},\n",
       " 'SrcSinkObject': {'in': {'predicateObject': '*', 'predicateObject2': '?'},\n",
       "  'out': {}},\n",
       " 'Subject': {'in': {'parentSubject': '*',\n",
       "   'predicateObject': '*',\n",
       "   'subject': '*'},\n",
       "  'out': {'localPrincipal': '?', 'parentSubject': '?'}}}"
      ]
     },
     "execution_count": 17,
     "metadata": {},
     "output_type": "execute_result"
    }
   ],
   "source": [
    "\n",
    "schema = inferSchema(vertices.keys())\n",
    "schema"
   ]
  },
  {
   "cell_type": "markdown",
   "metadata": {},
   "source": [
    "A _rigid path_ is a path that follows only edges with multiplicity <= 1.  Edges can be traversed in either direction but should not be traversed twice.  Rigid paths are useful for exploring because it does no harm to follow them."
   ]
  },
  {
   "cell_type": "code",
   "execution_count": 18,
   "metadata": {
    "collapsed": false
   },
   "outputs": [
    {
     "data": {
      "text/plain": [
       "{'Event': {'in': set(),\n",
       "  'out': {'predicateObject', 'predicateObject2', 'subject'}},\n",
       " 'FileObject': {'in': set(), 'out': set()},\n",
       " 'NetFlowObject': {'in': set(), 'out': set()},\n",
       " 'Principal': {'in': set(), 'out': set()},\n",
       " 'SrcSinkObject': {'in': {'predicateObject2'}, 'out': set()},\n",
       " 'Subject': {'in': set(), 'out': {'localPrincipal', 'parentSubject'}}}"
      ]
     },
     "execution_count": 18,
     "metadata": {},
     "output_type": "execute_result"
    }
   ],
   "source": [
    "def multLeq1(edges):\n",
    "    return {label for label in edges.keys() if edges[label]== '1' or edges[label] == '?'}\n",
    "\n",
    "def schemaMultLeq1(schema):\n",
    "    return {label : {'in': multLeq1(schema[label]['in']), 'out':multLeq1(schema[label]['out'])}\n",
    "             for label in schema.keys()}\n",
    "            \n",
    "schemaMultLeq1(schema)\n",
    "            "
   ]
  },
  {
   "cell_type": "code",
   "execution_count": 33,
   "metadata": {
    "collapsed": false
   },
   "outputs": [],
   "source": [
    "dot = Digraph(comment='schema')\n",
    "for v in vertices:\n",
    "    dot.node(v)\n",
    "for e in edges:\n",
    "    for s in edges[e]['out']:\n",
    "        for t in edges[e]['in']:\n",
    "            dot.edge(s,t,label=e)"
   ]
  },
  {
   "cell_type": "code",
   "execution_count": 34,
   "metadata": {
    "collapsed": false
   },
   "outputs": [
    {
     "data": {
      "image/svg+xml": [
       "<?xml version=\"1.0\" encoding=\"UTF-8\" standalone=\"no\"?>\n",
       "<!DOCTYPE svg PUBLIC \"-//W3C//DTD SVG 1.1//EN\"\n",
       " \"http://www.w3.org/Graphics/SVG/1.1/DTD/svg11.dtd\">\n",
       "<!-- Generated by graphviz version 2.38.0 (20140413.2041)\n",
       " -->\n",
       "<!-- Title: %3 Pages: 1 -->\n",
       "<svg width=\"818pt\" height=\"218pt\"\n",
       " viewBox=\"0.00 0.00 818.13 218.00\" xmlns=\"http://www.w3.org/2000/svg\" xmlns:xlink=\"http://www.w3.org/1999/xlink\">\n",
       "<g id=\"graph0\" class=\"graph\" transform=\"scale(1 1) rotate(0) translate(4 214)\">\n",
       "<title>%3</title>\n",
       "<polygon fill=\"white\" stroke=\"none\" points=\"-4,4 -4,-214 814.131,-214 814.131,4 -4,4\"/>\n",
       "<!-- Event -->\n",
       "<g id=\"node1\" class=\"node\"><title>Event</title>\n",
       "<ellipse fill=\"none\" stroke=\"black\" cx=\"398.131\" cy=\"-192\" rx=\"31.3957\" ry=\"18\"/>\n",
       "<text text-anchor=\"middle\" x=\"398.131\" y=\"-188.3\" font-family=\"Times,serif\" font-size=\"14.00\">Event</text>\n",
       "</g>\n",
       "<!-- FileObject -->\n",
       "<g id=\"node2\" class=\"node\"><title>FileObject</title>\n",
       "<ellipse fill=\"none\" stroke=\"black\" cx=\"51.1305\" cy=\"-105\" rx=\"48.1917\" ry=\"18\"/>\n",
       "<text text-anchor=\"middle\" x=\"51.1305\" y=\"-101.3\" font-family=\"Times,serif\" font-size=\"14.00\">FileObject</text>\n",
       "</g>\n",
       "<!-- Event&#45;&gt;FileObject -->\n",
       "<g id=\"edge1\" class=\"edge\"><title>Event&#45;&gt;FileObject</title>\n",
       "<path fill=\"none\" stroke=\"black\" d=\"M366.896,-190.592C278.005,-189.11 28.4698,-182.597 4.13053,-156 -5.10616,-145.906 3.40319,-134.806 15.5954,-125.634\"/>\n",
       "<polygon fill=\"black\" stroke=\"black\" points=\"17.6961,-128.438 23.9898,-119.915 13.7548,-122.653 17.6961,-128.438\"/>\n",
       "<text text-anchor=\"middle\" x=\"50.6305\" y=\"-144.8\" font-family=\"Times,serif\" font-size=\"14.00\">predicateObject2</text>\n",
       "</g>\n",
       "<!-- Event&#45;&gt;FileObject -->\n",
       "<g id=\"edge7\" class=\"edge\"><title>Event&#45;&gt;FileObject</title>\n",
       "<path fill=\"none\" stroke=\"black\" d=\"M366.964,-190.797C316.925,-189.606 216.167,-183.617 136.131,-156 116.513,-149.231 96.4172,-137.663 80.6936,-127.358\"/>\n",
       "<polygon fill=\"black\" stroke=\"black\" points=\"82.226,-124.17 71.9777,-121.482 78.313,-129.974 82.226,-124.17\"/>\n",
       "<text text-anchor=\"middle\" x=\"179.131\" y=\"-144.8\" font-family=\"Times,serif\" font-size=\"14.00\">predicateObject</text>\n",
       "</g>\n",
       "<!-- SrcSinkObject -->\n",
       "<g id=\"node3\" class=\"node\"><title>SrcSinkObject</title>\n",
       "<ellipse fill=\"none\" stroke=\"black\" cx=\"282.131\" cy=\"-105\" rx=\"61.99\" ry=\"18\"/>\n",
       "<text text-anchor=\"middle\" x=\"282.131\" y=\"-101.3\" font-family=\"Times,serif\" font-size=\"14.00\">SrcSinkObject</text>\n",
       "</g>\n",
       "<!-- Event&#45;&gt;SrcSinkObject -->\n",
       "<g id=\"edge2\" class=\"edge\"><title>Event&#45;&gt;SrcSinkObject</title>\n",
       "<path fill=\"none\" stroke=\"black\" d=\"M367.157,-189.135C323.217,-185.769 246.203,-176.971 229.131,-156 220.417,-145.297 228.757,-134.636 241.197,-125.924\"/>\n",
       "<polygon fill=\"black\" stroke=\"black\" points=\"243.222,-128.785 249.826,-120.5 239.497,-122.859 243.222,-128.785\"/>\n",
       "<text text-anchor=\"middle\" x=\"275.631\" y=\"-144.8\" font-family=\"Times,serif\" font-size=\"14.00\">predicateObject2</text>\n",
       "</g>\n",
       "<!-- Event&#45;&gt;SrcSinkObject -->\n",
       "<g id=\"edge8\" class=\"edge\"><title>Event&#45;&gt;SrcSinkObject</title>\n",
       "<path fill=\"none\" stroke=\"black\" d=\"M376.517,-178.782C365.646,-172.375 352.416,-164.174 341.131,-156 334.512,-151.206 320.847,-139.665 308.333,-128.878\"/>\n",
       "<polygon fill=\"black\" stroke=\"black\" points=\"310.615,-126.225 300.764,-122.326 306.034,-131.517 310.615,-126.225\"/>\n",
       "<text text-anchor=\"middle\" x=\"384.131\" y=\"-144.8\" font-family=\"Times,serif\" font-size=\"14.00\">predicateObject</text>\n",
       "</g>\n",
       "<!-- Subject -->\n",
       "<g id=\"node5\" class=\"node\"><title>Subject</title>\n",
       "<ellipse fill=\"none\" stroke=\"black\" cx=\"471.131\" cy=\"-105\" rx=\"37.0935\" ry=\"18\"/>\n",
       "<text text-anchor=\"middle\" x=\"471.131\" y=\"-101.3\" font-family=\"Times,serif\" font-size=\"14.00\">Subject</text>\n",
       "</g>\n",
       "<!-- Event&#45;&gt;Subject -->\n",
       "<g id=\"edge6\" class=\"edge\"><title>Event&#45;&gt;Subject</title>\n",
       "<path fill=\"none\" stroke=\"black\" d=\"M412.862,-175.915C418.668,-169.832 425.324,-162.682 431.131,-156 438.349,-147.693 445.966,-138.333 452.595,-129.977\"/>\n",
       "<polygon fill=\"black\" stroke=\"black\" points=\"455.412,-132.056 458.842,-122.032 449.909,-127.73 455.412,-132.056\"/>\n",
       "<text text-anchor=\"middle\" x=\"463.631\" y=\"-144.8\" font-family=\"Times,serif\" font-size=\"14.00\">subject</text>\n",
       "</g>\n",
       "<!-- Event&#45;&gt;Subject -->\n",
       "<g id=\"edge9\" class=\"edge\"><title>Event&#45;&gt;Subject</title>\n",
       "<path fill=\"none\" stroke=\"black\" d=\"M428.766,-187.702C449.015,-183.752 474.136,-175.073 487.131,-156 492.127,-148.667 491.008,-139.679 487.704,-131.357\"/>\n",
       "<polygon fill=\"black\" stroke=\"black\" points=\"490.827,-129.776 483.254,-122.367 484.553,-132.881 490.827,-129.776\"/>\n",
       "<text text-anchor=\"middle\" x=\"534.131\" y=\"-144.8\" font-family=\"Times,serif\" font-size=\"14.00\">predicateObject</text>\n",
       "</g>\n",
       "<!-- NetFlowObject -->\n",
       "<g id=\"node6\" class=\"node\"><title>NetFlowObject</title>\n",
       "<ellipse fill=\"none\" stroke=\"black\" cx=\"721.131\" cy=\"-105\" rx=\"64.9885\" ry=\"18\"/>\n",
       "<text text-anchor=\"middle\" x=\"721.131\" y=\"-101.3\" font-family=\"Times,serif\" font-size=\"14.00\">NetFlowObject</text>\n",
       "</g>\n",
       "<!-- Event&#45;&gt;NetFlowObject -->\n",
       "<g id=\"edge3\" class=\"edge\"><title>Event&#45;&gt;NetFlowObject</title>\n",
       "<path fill=\"none\" stroke=\"black\" d=\"M428.249,-186.698C464.785,-181.146 528.075,-170.455 581.131,-156 590.474,-153.454 636.983,-136.707 673.867,-123.286\"/>\n",
       "<polygon fill=\"black\" stroke=\"black\" points=\"675.294,-126.492 683.492,-119.78 672.898,-119.914 675.294,-126.492\"/>\n",
       "<text text-anchor=\"middle\" x=\"668.631\" y=\"-144.8\" font-family=\"Times,serif\" font-size=\"14.00\">predicateObject2</text>\n",
       "</g>\n",
       "<!-- Event&#45;&gt;NetFlowObject -->\n",
       "<g id=\"edge10\" class=\"edge\"><title>Event&#45;&gt;NetFlowObject</title>\n",
       "<path fill=\"none\" stroke=\"black\" d=\"M429.379,-189.833C506.003,-186.66 698.428,-176.693 718.131,-156 723.865,-149.978 725.734,-141.478 725.825,-133.192\"/>\n",
       "<polygon fill=\"black\" stroke=\"black\" points=\"729.304,-132.758 725.147,-123.013 722.319,-133.224 729.304,-132.758\"/>\n",
       "<text text-anchor=\"middle\" x=\"767.131\" y=\"-144.8\" font-family=\"Times,serif\" font-size=\"14.00\">predicateObject</text>\n",
       "</g>\n",
       "<!-- Principal -->\n",
       "<g id=\"node4\" class=\"node\"><title>Principal</title>\n",
       "<ellipse fill=\"none\" stroke=\"black\" cx=\"471.131\" cy=\"-18\" rx=\"42.4939\" ry=\"18\"/>\n",
       "<text text-anchor=\"middle\" x=\"471.131\" y=\"-14.3\" font-family=\"Times,serif\" font-size=\"14.00\">Principal</text>\n",
       "</g>\n",
       "<!-- Subject&#45;&gt;Principal -->\n",
       "<g id=\"edge4\" class=\"edge\"><title>Subject&#45;&gt;Principal</title>\n",
       "<path fill=\"none\" stroke=\"black\" d=\"M471.131,-86.799C471.131,-75.1626 471.131,-59.5479 471.131,-46.2368\"/>\n",
       "<polygon fill=\"black\" stroke=\"black\" points=\"474.631,-46.1754 471.131,-36.1754 467.631,-46.1755 474.631,-46.1754\"/>\n",
       "<text text-anchor=\"middle\" x=\"509.131\" y=\"-57.8\" font-family=\"Times,serif\" font-size=\"14.00\">localPrincipal</text>\n",
       "</g>\n",
       "<!-- Subject&#45;&gt;Subject -->\n",
       "<g id=\"edge5\" class=\"edge\"><title>Subject&#45;&gt;Subject</title>\n",
       "<path fill=\"none\" stroke=\"black\" d=\"M504.453,-112.867C516.42,-113.036 526.177,-110.414 526.177,-105 526.177,-101.278 521.566,-98.8751 514.795,-97.7919\"/>\n",
       "<polygon fill=\"black\" stroke=\"black\" points=\"514.656,-94.2761 504.453,-97.1327 514.21,-101.262 514.656,-94.2761\"/>\n",
       "<text text-anchor=\"middle\" x=\"563.677\" y=\"-101.3\" font-family=\"Times,serif\" font-size=\"14.00\">parentSubject</text>\n",
       "</g>\n",
       "</g>\n",
       "</svg>\n"
      ],
      "text/plain": [
       "<graphviz.dot.Digraph at 0x7efe71e75080>"
      ]
     },
     "execution_count": 34,
     "metadata": {},
     "output_type": "execute_result"
    }
   ],
   "source": [
    "dot"
   ]
  },
  {
   "cell_type": "code",
   "execution_count": null,
   "metadata": {
    "collapsed": true
   },
   "outputs": [],
   "source": []
  }
 ],
 "metadata": {
  "kernelspec": {
   "display_name": "Python 3",
   "language": "python",
   "name": "python3"
  },
  "language_info": {
   "codemirror_mode": {
    "name": "ipython",
    "version": 3
   },
   "file_extension": ".py",
   "mimetype": "text/x-python",
   "name": "python",
   "nbconvert_exporter": "python",
   "pygments_lexer": "ipython3",
   "version": "3.6.0"
  }
 },
 "nbformat": 4,
 "nbformat_minor": 2
}
